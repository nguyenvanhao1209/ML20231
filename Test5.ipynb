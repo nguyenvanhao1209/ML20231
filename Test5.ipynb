{
 "cells": [
  {
   "cell_type": "code",
   "execution_count": 1,
   "id": "99900f8d-2c55-4ef2-a7aa-9b61fcddeb0b",
   "metadata": {},
   "outputs": [],
   "source": [
    "import numpy as np\n",
    "import pandas as pd"
   ]
  },
  {
   "cell_type": "code",
   "execution_count": 2,
   "id": "03e28a7d-8cb5-410d-a14f-1ac47f43a117",
   "metadata": {},
   "outputs": [],
   "source": [
    "df = pd.read_csv('spam.csv', encoding = \"ISO-8859-1\")"
   ]
  },
  {
   "cell_type": "code",
   "execution_count": 3,
   "id": "00fc3948-ff32-4333-8c47-dc2608fd1afb",
   "metadata": {},
   "outputs": [
    {
     "data": {
      "text/html": [
       "<div>\n",
       "<style scoped>\n",
       "    .dataframe tbody tr th:only-of-type {\n",
       "        vertical-align: middle;\n",
       "    }\n",
       "\n",
       "    .dataframe tbody tr th {\n",
       "        vertical-align: top;\n",
       "    }\n",
       "\n",
       "    .dataframe thead th {\n",
       "        text-align: right;\n",
       "    }\n",
       "</style>\n",
       "<table border=\"1\" class=\"dataframe\">\n",
       "  <thead>\n",
       "    <tr style=\"text-align: right;\">\n",
       "      <th></th>\n",
       "      <th>v1</th>\n",
       "      <th>v2</th>\n",
       "      <th>Unnamed: 2</th>\n",
       "      <th>Unnamed: 3</th>\n",
       "      <th>Unnamed: 4</th>\n",
       "    </tr>\n",
       "  </thead>\n",
       "  <tbody>\n",
       "    <tr>\n",
       "      <th>645</th>\n",
       "      <td>ham</td>\n",
       "      <td>Watching cartoon, listening music &amp;amp; at eve...</td>\n",
       "      <td>NaN</td>\n",
       "      <td>NaN</td>\n",
       "      <td>NaN</td>\n",
       "    </tr>\n",
       "    <tr>\n",
       "      <th>3023</th>\n",
       "      <td>ham</td>\n",
       "      <td>I love ya too but try and budget your money be...</td>\n",
       "      <td>NaN</td>\n",
       "      <td>NaN</td>\n",
       "      <td>NaN</td>\n",
       "    </tr>\n",
       "    <tr>\n",
       "      <th>1124</th>\n",
       "      <td>ham</td>\n",
       "      <td>Aiyar sorry lor forgot 2 tell u...</td>\n",
       "      <td>NaN</td>\n",
       "      <td>NaN</td>\n",
       "      <td>NaN</td>\n",
       "    </tr>\n",
       "    <tr>\n",
       "      <th>3320</th>\n",
       "      <td>ham</td>\n",
       "      <td>Yo im right by yo work</td>\n",
       "      <td>NaN</td>\n",
       "      <td>NaN</td>\n",
       "      <td>NaN</td>\n",
       "    </tr>\n",
       "    <tr>\n",
       "      <th>2395</th>\n",
       "      <td>ham</td>\n",
       "      <td>Babe, I'm back ... Come back to me ...</td>\n",
       "      <td>NaN</td>\n",
       "      <td>NaN</td>\n",
       "      <td>NaN</td>\n",
       "    </tr>\n",
       "  </tbody>\n",
       "</table>\n",
       "</div>"
      ],
      "text/plain": [
       "       v1                                                 v2 Unnamed: 2  \\\n",
       "645   ham  Watching cartoon, listening music &amp; at eve...        NaN   \n",
       "3023  ham  I love ya too but try and budget your money be...        NaN   \n",
       "1124  ham                 Aiyar sorry lor forgot 2 tell u...        NaN   \n",
       "3320  ham                             Yo im right by yo work        NaN   \n",
       "2395  ham             Babe, I'm back ... Come back to me ...        NaN   \n",
       "\n",
       "     Unnamed: 3 Unnamed: 4  \n",
       "645         NaN        NaN  \n",
       "3023        NaN        NaN  \n",
       "1124        NaN        NaN  \n",
       "3320        NaN        NaN  \n",
       "2395        NaN        NaN  "
      ]
     },
     "execution_count": 3,
     "metadata": {},
     "output_type": "execute_result"
    }
   ],
   "source": [
    "df.sample(5)"
   ]
  },
  {
   "cell_type": "code",
   "execution_count": 4,
   "id": "8efde4e3-9711-4707-a39b-e04498e3ef96",
   "metadata": {},
   "outputs": [
    {
     "data": {
      "text/plain": [
       "(5572, 5)"
      ]
     },
     "execution_count": 4,
     "metadata": {},
     "output_type": "execute_result"
    }
   ],
   "source": [
    "df.shape"
   ]
  },
  {
   "cell_type": "code",
   "execution_count": 5,
   "id": "b80dea0f-826c-4c7c-99ca-4e153382c31e",
   "metadata": {},
   "outputs": [
    {
     "name": "stdout",
     "output_type": "stream",
     "text": [
      "<class 'pandas.core.frame.DataFrame'>\n",
      "RangeIndex: 5572 entries, 0 to 5571\n",
      "Data columns (total 5 columns):\n",
      " #   Column      Non-Null Count  Dtype \n",
      "---  ------      --------------  ----- \n",
      " 0   v1          5572 non-null   object\n",
      " 1   v2          5572 non-null   object\n",
      " 2   Unnamed: 2  50 non-null     object\n",
      " 3   Unnamed: 3  12 non-null     object\n",
      " 4   Unnamed: 4  6 non-null      object\n",
      "dtypes: object(5)\n",
      "memory usage: 217.8+ KB\n"
     ]
    }
   ],
   "source": [
    "df.info()"
   ]
  },
  {
   "cell_type": "code",
   "execution_count": 6,
   "id": "cc9eabf0-e67a-4d91-891a-4bd0b056b497",
   "metadata": {},
   "outputs": [],
   "source": [
    "df.drop(columns=['Unnamed: 2','Unnamed: 3','Unnamed: 4'],inplace=True)"
   ]
  },
  {
   "cell_type": "code",
   "execution_count": 7,
   "id": "30afdbe8-b0b7-4645-9b5e-4ce6d8be0d2e",
   "metadata": {},
   "outputs": [
    {
     "data": {
      "text/html": [
       "<div>\n",
       "<style scoped>\n",
       "    .dataframe tbody tr th:only-of-type {\n",
       "        vertical-align: middle;\n",
       "    }\n",
       "\n",
       "    .dataframe tbody tr th {\n",
       "        vertical-align: top;\n",
       "    }\n",
       "\n",
       "    .dataframe thead th {\n",
       "        text-align: right;\n",
       "    }\n",
       "</style>\n",
       "<table border=\"1\" class=\"dataframe\">\n",
       "  <thead>\n",
       "    <tr style=\"text-align: right;\">\n",
       "      <th></th>\n",
       "      <th>target</th>\n",
       "      <th>text</th>\n",
       "    </tr>\n",
       "  </thead>\n",
       "  <tbody>\n",
       "    <tr>\n",
       "      <th>428</th>\n",
       "      <td>ham</td>\n",
       "      <td>7 at esplanade.. Do Ì_ mind giving me a lift c...</td>\n",
       "    </tr>\n",
       "    <tr>\n",
       "      <th>2652</th>\n",
       "      <td>ham</td>\n",
       "      <td>No need for the drug anymore.</td>\n",
       "    </tr>\n",
       "    <tr>\n",
       "      <th>841</th>\n",
       "      <td>ham</td>\n",
       "      <td>Pls send me a comprehensive mail about who i'm...</td>\n",
       "    </tr>\n",
       "    <tr>\n",
       "      <th>3552</th>\n",
       "      <td>ham</td>\n",
       "      <td>Din i tell u jus now 420</td>\n",
       "    </tr>\n",
       "    <tr>\n",
       "      <th>1802</th>\n",
       "      <td>ham</td>\n",
       "      <td>Ok lor thanx... ÌÏ in school?</td>\n",
       "    </tr>\n",
       "  </tbody>\n",
       "</table>\n",
       "</div>"
      ],
      "text/plain": [
       "     target                                               text\n",
       "428     ham  7 at esplanade.. Do Ì_ mind giving me a lift c...\n",
       "2652    ham                      No need for the drug anymore.\n",
       "841     ham  Pls send me a comprehensive mail about who i'm...\n",
       "3552    ham                           Din i tell u jus now 420\n",
       "1802    ham                      Ok lor thanx... ÌÏ in school?"
      ]
     },
     "execution_count": 7,
     "metadata": {},
     "output_type": "execute_result"
    }
   ],
   "source": [
    "df.rename(columns={'v1':'target','v2':'text'},inplace=True)\n",
    "df.sample(5)"
   ]
  },
  {
   "cell_type": "code",
   "execution_count": 8,
   "id": "bea865ee-37e3-4286-b68b-f0264232e26f",
   "metadata": {},
   "outputs": [],
   "source": [
    "from sklearn.preprocessing import LabelEncoder\n",
    "encoder = LabelEncoder()\n",
    "df['target'] = encoder.fit_transform(df['target'])"
   ]
  },
  {
   "cell_type": "code",
   "execution_count": 9,
   "id": "75cf5692-af20-42ea-902a-da226cd83d14",
   "metadata": {},
   "outputs": [],
   "source": [
    "df = df.drop_duplicates(keep='first')"
   ]
  },
  {
   "cell_type": "code",
   "execution_count": 10,
   "id": "962000c8-50f7-44ef-b971-8c9408f36035",
   "metadata": {},
   "outputs": [
    {
     "name": "stdout",
     "output_type": "stream",
     "text": [
      "<class 'pandas.core.frame.DataFrame'>\n",
      "Index: 5169 entries, 0 to 5571\n",
      "Data columns (total 2 columns):\n",
      " #   Column  Non-Null Count  Dtype \n",
      "---  ------  --------------  ----- \n",
      " 0   target  5169 non-null   int32 \n",
      " 1   text    5169 non-null   object\n",
      "dtypes: int32(1), object(1)\n",
      "memory usage: 101.0+ KB\n"
     ]
    }
   ],
   "source": [
    "df.info()"
   ]
  },
  {
   "cell_type": "code",
   "execution_count": 11,
   "id": "214d75e5-99ed-4252-9287-4c0c25cda2f5",
   "metadata": {},
   "outputs": [
    {
     "name": "stdout",
     "output_type": "stream",
     "text": [
      "3.8.1\n"
     ]
    },
    {
     "name": "stderr",
     "output_type": "stream",
     "text": [
      "[nltk_data] Downloading package punkt to\n",
      "[nltk_data]     C:\\Users\\Dell\\AppData\\Roaming\\nltk_data...\n",
      "[nltk_data]   Package punkt is already up-to-date!\n",
      "[nltk_data] Downloading package stopwords to\n",
      "[nltk_data]     C:\\Users\\Dell\\AppData\\Roaming\\nltk_data...\n",
      "[nltk_data]   Package stopwords is already up-to-date!\n"
     ]
    },
    {
     "data": {
      "text/plain": [
       "True"
      ]
     },
     "execution_count": 11,
     "metadata": {},
     "output_type": "execute_result"
    }
   ],
   "source": [
    "import nltk\n",
    "print(nltk.__version__)\n",
    "nltk.download('punkt')\n",
    "nltk.download('stopwords')"
   ]
  },
  {
   "cell_type": "code",
   "execution_count": 12,
   "id": "180eddda-0b5c-4418-9b39-3586924f48ef",
   "metadata": {},
   "outputs": [],
   "source": [
    "from nltk.corpus import stopwords\n",
    "import string\n",
    "from nltk.stem.porter import PorterStemmer\n",
    "ps = PorterStemmer()"
   ]
  },
  {
   "cell_type": "code",
   "execution_count": 13,
   "id": "298e6a22-ef51-4bba-9646-f9ef146e2d50",
   "metadata": {},
   "outputs": [],
   "source": [
    "def transform_text(text): \n",
    "    text = text.lower() # chuyển thành chữ thường\n",
    "    text = nltk.word_tokenize(text) # chia text thành mảng các từ riêng lẻ\n",
    "    \n",
    "    y = []\n",
    "    for i in text:\n",
    "        if i.isalnum(): # kiểm tra từ chỉ bao gồm chữ và số\n",
    "            y.append(i)\n",
    "    \n",
    "    text = y[:] # copy y to text\n",
    "    y.clear()\n",
    "    \n",
    "    for i in text:\n",
    "        if i not in stopwords.words('english') and i not in string.punctuation: # kiểm tra xem từ không phải là từ dừng và dấu câu\n",
    "            y.append(i)\n",
    "            \n",
    "    text = y[:]\n",
    "    y.clear()\n",
    "    for i in text:\n",
    "        y.append(ps.stem(i)) # cắt giảm từ trở về dạng gốc\n",
    "            \n",
    "    return \" \".join(y)"
   ]
  },
  {
   "cell_type": "code",
   "execution_count": 14,
   "id": "2d704714-0cac-4774-b875-85296d11f073",
   "metadata": {},
   "outputs": [
    {
     "data": {
      "text/plain": [
       "'whoever money pleas donat'"
      ]
     },
     "execution_count": 14,
     "metadata": {},
     "output_type": "execute_result"
    }
   ],
   "source": [
    "transform_text('Whoever has money, please donate to me')"
   ]
  },
  {
   "cell_type": "code",
   "execution_count": 15,
   "id": "ece6a68d-1b4a-455f-9df6-eadfa4708ae9",
   "metadata": {},
   "outputs": [],
   "source": [
    "df['transformed_text'] = df['text'].apply(transform_text)"
   ]
  },
  {
   "cell_type": "code",
   "execution_count": 16,
   "id": "48fb6dfc-6746-48fb-92bb-28deab0e7e51",
   "metadata": {},
   "outputs": [
    {
     "data": {
      "text/html": [
       "<div>\n",
       "<style scoped>\n",
       "    .dataframe tbody tr th:only-of-type {\n",
       "        vertical-align: middle;\n",
       "    }\n",
       "\n",
       "    .dataframe tbody tr th {\n",
       "        vertical-align: top;\n",
       "    }\n",
       "\n",
       "    .dataframe thead th {\n",
       "        text-align: right;\n",
       "    }\n",
       "</style>\n",
       "<table border=\"1\" class=\"dataframe\">\n",
       "  <thead>\n",
       "    <tr style=\"text-align: right;\">\n",
       "      <th></th>\n",
       "      <th>target</th>\n",
       "      <th>text</th>\n",
       "      <th>transformed_text</th>\n",
       "    </tr>\n",
       "  </thead>\n",
       "  <tbody>\n",
       "    <tr>\n",
       "      <th>0</th>\n",
       "      <td>0</td>\n",
       "      <td>Go until jurong point, crazy.. Available only ...</td>\n",
       "      <td>go jurong point crazi avail bugi n great world...</td>\n",
       "    </tr>\n",
       "    <tr>\n",
       "      <th>1</th>\n",
       "      <td>0</td>\n",
       "      <td>Ok lar... Joking wif u oni...</td>\n",
       "      <td>ok lar joke wif u oni</td>\n",
       "    </tr>\n",
       "    <tr>\n",
       "      <th>2</th>\n",
       "      <td>1</td>\n",
       "      <td>Free entry in 2 a wkly comp to win FA Cup fina...</td>\n",
       "      <td>free entri 2 wkli comp win fa cup final tkt 21...</td>\n",
       "    </tr>\n",
       "    <tr>\n",
       "      <th>3</th>\n",
       "      <td>0</td>\n",
       "      <td>U dun say so early hor... U c already then say...</td>\n",
       "      <td>u dun say earli hor u c alreadi say</td>\n",
       "    </tr>\n",
       "    <tr>\n",
       "      <th>4</th>\n",
       "      <td>0</td>\n",
       "      <td>Nah I don't think he goes to usf, he lives aro...</td>\n",
       "      <td>nah think goe usf live around though</td>\n",
       "    </tr>\n",
       "  </tbody>\n",
       "</table>\n",
       "</div>"
      ],
      "text/plain": [
       "   target                                               text  \\\n",
       "0       0  Go until jurong point, crazy.. Available only ...   \n",
       "1       0                      Ok lar... Joking wif u oni...   \n",
       "2       1  Free entry in 2 a wkly comp to win FA Cup fina...   \n",
       "3       0  U dun say so early hor... U c already then say...   \n",
       "4       0  Nah I don't think he goes to usf, he lives aro...   \n",
       "\n",
       "                                    transformed_text  \n",
       "0  go jurong point crazi avail bugi n great world...  \n",
       "1                              ok lar joke wif u oni  \n",
       "2  free entri 2 wkli comp win fa cup final tkt 21...  \n",
       "3                u dun say earli hor u c alreadi say  \n",
       "4               nah think goe usf live around though  "
      ]
     },
     "execution_count": 16,
     "metadata": {},
     "output_type": "execute_result"
    }
   ],
   "source": [
    "df.head()"
   ]
  },
  {
   "cell_type": "code",
   "execution_count": 17,
   "id": "7cd248fd-d05a-4a3e-9ac8-ffd8ec5c80f2",
   "metadata": {},
   "outputs": [],
   "source": [
    "from sklearn.feature_extraction.text import CountVectorizer, TfidfVectorizer\n",
    "from sklearn.model_selection import GridSearchCV\n",
    "cv = CountVectorizer()   #Vector hóa văn bản\n",
    "tfidf = TfidfVectorizer(max_features = 3000) # chuyển đổi văn bản thành vectơ TF-IDF giữ lại 3000 đặc trưng"
   ]
  },
  {
   "cell_type": "code",
   "execution_count": 18,
   "id": "b6bb5d20-5ceb-4489-bef4-add4ebf714ba",
   "metadata": {},
   "outputs": [
    {
     "data": {
      "text/plain": [
       "(5169, 3000)"
      ]
     },
     "execution_count": 18,
     "metadata": {},
     "output_type": "execute_result"
    }
   ],
   "source": [
    "X = tfidf.fit_transform(df['transformed_text']).toarray() # chuyển đổi cột 'transformed_text' thành ma trận các vectơ TF-IDF\n",
    "X.shape"
   ]
  },
  {
   "cell_type": "code",
   "execution_count": 19,
   "id": "b4136306-69d0-4119-9bed-f774605c3fef",
   "metadata": {},
   "outputs": [
    {
     "data": {
      "text/plain": [
       "(5169, 3000)"
      ]
     },
     "execution_count": 19,
     "metadata": {},
     "output_type": "execute_result"
    }
   ],
   "source": [
    "from sklearn.preprocessing import MinMaxScaler, StandardScaler\n",
    "scaler = StandardScaler()\n",
    "X = scaler.fit_transform(X) # chuẩn hóa ma trận về khoảng giá trị [0, 1]\n",
    "X.shape"
   ]
  },
  {
   "cell_type": "code",
   "execution_count": 20,
   "id": "08794927-212e-4b07-8b58-c64fcc1fa415",
   "metadata": {},
   "outputs": [],
   "source": [
    "y = df['target'].values"
   ]
  },
  {
   "cell_type": "code",
   "execution_count": 21,
   "id": "a701d97c-65ca-420f-b1bd-84c6bc0f9274",
   "metadata": {},
   "outputs": [],
   "source": [
    "from sklearn.model_selection import train_test_split\n",
    "from sklearn.metrics import accuracy_score, confusion_matrix, precision_score, classification_report, roc_curve, auc, precision_recall_curve\n",
    "import matplotlib.pyplot as plt\n",
    "import seaborn as sns\n",
    "from plotly.subplots import make_subplots"
   ]
  },
  {
   "cell_type": "markdown",
   "id": "fbde09a2-07a5-4854-bf79-809be221e3db",
   "metadata": {},
   "source": [
    "# Bootstrap Sampling"
   ]
  },
  {
   "cell_type": "code",
   "execution_count": 22,
   "id": "85bb53f0-a990-453a-81b5-4a2beb39600e",
   "metadata": {},
   "outputs": [],
   "source": [
    "from sklearn.utils import resample\n",
    "from sklearn.model_selection import cross_val_score"
   ]
  },
  {
   "cell_type": "code",
   "execution_count": 23,
   "id": "1053c4ca-a9e3-4703-b905-bab93f822fc4",
   "metadata": {},
   "outputs": [],
   "source": [
    "from sklearn.neighbors import KNeighborsClassifier\n",
    "knn = KNeighborsClassifier(n_neighbors=2)\n",
    "\n",
    "n_samples = len(X)  # Number of samples in the dataset\n",
    "n_bootstraps = 100  # Number of bootstrap samples to create\n",
    "bootstrap_scores = []\n",
    "\n",
    "for _ in range(n_bootstraps):\n",
    "    # Create a bootstrap sample with replacement\n",
    "    X_boot, y_boot = resample(X, y, replace=True, random_state=42)\n",
    "\n",
    "    # Create and fit a classifier on the bootstrap sample\n",
    "    clf = KNeighborsClassifier(n_neighbors=2)\n",
    "    clf.fit(X_boot, y_boot)\n",
    "\n",
    "    # Evaluate performance on the original dataset (or a held-out test set)\n",
    "    score = clf.score(X, y)  # Using accuracy as metric\n",
    "    bootstrap_scores.append(score)"
   ]
  },
  {
   "cell_type": "code",
   "execution_count": 24,
   "id": "5c3f2d81-5ceb-45db-b6d5-890779327aff",
   "metadata": {},
   "outputs": [
    {
     "name": "stdout",
     "output_type": "stream",
     "text": [
      "Bootstrap scores: [0.9495066744051074, 0.9495066744051074, 0.9495066744051074, 0.9495066744051074, 0.9495066744051074, 0.9495066744051074, 0.9495066744051074, 0.9495066744051074, 0.9495066744051074, 0.9495066744051074, 0.9495066744051074, 0.9495066744051074, 0.9495066744051074, 0.9495066744051074, 0.9495066744051074, 0.9495066744051074, 0.9495066744051074, 0.9495066744051074, 0.9495066744051074, 0.9495066744051074, 0.9495066744051074, 0.9495066744051074, 0.9495066744051074, 0.9495066744051074, 0.9495066744051074, 0.9495066744051074, 0.9495066744051074, 0.9495066744051074, 0.9495066744051074, 0.9495066744051074, 0.9495066744051074, 0.9495066744051074, 0.9495066744051074, 0.9495066744051074, 0.9495066744051074, 0.9495066744051074, 0.9495066744051074, 0.9495066744051074, 0.9495066744051074, 0.9495066744051074, 0.9495066744051074, 0.9495066744051074, 0.9495066744051074, 0.9495066744051074, 0.9495066744051074, 0.9495066744051074, 0.9495066744051074, 0.9495066744051074, 0.9495066744051074, 0.9495066744051074, 0.9495066744051074, 0.9495066744051074, 0.9495066744051074, 0.9495066744051074, 0.9495066744051074, 0.9495066744051074, 0.9495066744051074, 0.9495066744051074, 0.9495066744051074, 0.9495066744051074, 0.9495066744051074, 0.9495066744051074, 0.9495066744051074, 0.9495066744051074, 0.9495066744051074, 0.9495066744051074, 0.9495066744051074, 0.9495066744051074, 0.9495066744051074, 0.9495066744051074, 0.9495066744051074, 0.9495066744051074, 0.9495066744051074, 0.9495066744051074, 0.9495066744051074, 0.9495066744051074, 0.9495066744051074, 0.9495066744051074, 0.9495066744051074, 0.9495066744051074, 0.9495066744051074, 0.9495066744051074, 0.9495066744051074, 0.9495066744051074, 0.9495066744051074, 0.9495066744051074, 0.9495066744051074, 0.9495066744051074, 0.9495066744051074, 0.9495066744051074, 0.9495066744051074, 0.9495066744051074, 0.9495066744051074, 0.9495066744051074, 0.9495066744051074, 0.9495066744051074, 0.9495066744051074, 0.9495066744051074, 0.9495066744051074, 0.9495066744051074]\n",
      "Mean accuracy: 0.9495066744051077\n",
      "Standard deviation: 3.3306690738754696e-16\n"
     ]
    }
   ],
   "source": [
    "print(\"Bootstrap scores:\", bootstrap_scores)\n",
    "print(\"Mean accuracy:\", np.mean(bootstrap_scores))\n",
    "print(\"Standard deviation:\", np.std(bootstrap_scores))"
   ]
  },
  {
   "cell_type": "code",
   "execution_count": 25,
   "id": "6579ee56-a2b4-4bb9-b82f-d748e72e30dc",
   "metadata": {},
   "outputs": [],
   "source": [
    "from sklearn.tree import DecisionTreeClassifier\n",
    "n_samples = len(X)  # Number of samples in the dataset\n",
    "n_bootstraps = 100  # Number of bootstrap samples to create\n",
    "bootstrap_scores = []\n",
    "\n",
    "for _ in range(n_bootstraps):\n",
    "    # Create a bootstrap sample with replacement\n",
    "    X_boot, y_boot = resample(X, y, replace=True, random_state=42)\n",
    "\n",
    "    # Create and fit a classifier on the bootstrap sample\n",
    "    clf = DecisionTreeClassifier(max_depth=20)\n",
    "    clf.fit(X_boot, y_boot)\n",
    "\n",
    "    # Evaluate performance on the original dataset (or a held-out test set)\n",
    "    score = clf.score(X, y)  # Using accuracy as metric\n",
    "    bootstrap_scores.append(score)"
   ]
  },
  {
   "cell_type": "code",
   "execution_count": 26,
   "id": "38b1c39d-7a71-4c30-a51b-de071fdb63be",
   "metadata": {},
   "outputs": [
    {
     "name": "stdout",
     "output_type": "stream",
     "text": [
      "Bootstrap scores: [0.9740762236409364, 0.9727219965177016, 0.9736893016057264, 0.9738827626233314, 0.9733023795705166, 0.9733023795705166, 0.9727219965177016, 0.9744631456761462, 0.9746566066937512, 0.9738827626233314, 0.9742696846585414, 0.9723350744824918, 0.975236989746566, 0.9744631456761462, 0.9733023795705166, 0.9729154575353066, 0.9734958405881214, 0.9740762236409364, 0.9736893016057264, 0.9731089185529116, 0.9742696846585414, 0.9748500677113562, 0.9734958405881214, 0.9725285355000968, 0.9742696846585414, 0.9733023795705166, 0.9748500677113562, 0.975236989746566, 0.9736893016057264, 0.9738827626233314, 0.9736893016057264, 0.9742696846585414, 0.9748500677113562, 0.9746566066937512, 0.9736893016057264, 0.9734958405881214, 0.9725285355000968, 0.9736893016057264, 0.9744631456761462, 0.9744631456761462, 0.9746566066937512, 0.9729154575353066, 0.9748500677113562, 0.9731089185529116, 0.975430450764171, 0.9734958405881214, 0.9736893016057264, 0.9727219965177016, 0.9740762236409364, 0.9750435287289612, 0.9736893016057264, 0.9731089185529116, 0.9742696846585414, 0.9742696846585414, 0.9734958405881214, 0.9740762236409364, 0.9744631456761462, 0.9746566066937512, 0.9721416134648868, 0.975430450764171, 0.9736893016057264, 0.9738827626233314, 0.9725285355000968, 0.9731089185529116, 0.9731089185529116, 0.9742696846585414, 0.975236989746566, 0.9731089185529116, 0.9721416134648868, 0.9721416134648868, 0.9738827626233314, 0.9736893016057264, 0.9734958405881214, 0.9725285355000968, 0.9734958405881214, 0.9740762236409364, 0.9742696846585414, 0.9760108338169858, 0.9734958405881214, 0.971754691429677, 0.9734958405881214, 0.975236989746566, 0.975623911781776, 0.975430450764171, 0.9729154575353066, 0.9729154575353066, 0.971174308376862, 0.9748500677113562, 0.9738827626233314, 0.9733023795705166, 0.975430450764171, 0.9736893016057264, 0.9725285355000968, 0.975236989746566, 0.9742696846585414, 0.9742696846585414, 0.9731089185529116, 0.9733023795705166, 0.9748500677113562, 0.975236989746566]\n",
      "Mean accuracy: 0.9738402011994581\n",
      "Standard deviation: 0.0009432410102533984\n"
     ]
    }
   ],
   "source": [
    "print(\"Bootstrap scores:\", bootstrap_scores)\n",
    "print(\"Mean accuracy:\", np.mean(bootstrap_scores))\n",
    "print(\"Standard deviation:\", np.std(bootstrap_scores))"
   ]
  },
  {
   "cell_type": "code",
   "execution_count": 27,
   "id": "4899946e-e043-4295-b1da-58b5e6c2e452",
   "metadata": {},
   "outputs": [],
   "source": [
    "from sklearn.ensemble import RandomForestClassifier\n",
    "n_samples = len(X)  # Number of samples in the dataset\n",
    "n_bootstraps = 100  # Number of bootstrap samples to create\n",
    "bootstrap_scores = []\n",
    "\n",
    "for _ in range(n_bootstraps):\n",
    "    # Create a bootstrap sample with replacement\n",
    "    X_boot, y_boot = resample(X, y, replace=True, random_state=42)\n",
    "\n",
    "    # Create and fit a classifier on the bootstrap sample\n",
    "    clf = RandomForestClassifier(n_estimators=100)\n",
    "    clf.fit(X_boot, y_boot)\n",
    "\n",
    "    # Evaluate performance on the original dataset (or a held-out test set)\n",
    "    score = clf.score(X, y)  # Using accuracy as metric\n",
    "    bootstrap_scores.append(score)"
   ]
  },
  {
   "cell_type": "code",
   "execution_count": 28,
   "id": "40ced9dc-0faa-4a09-bd72-e43992546709",
   "metadata": {},
   "outputs": [
    {
     "name": "stdout",
     "output_type": "stream",
     "text": [
      "Bootstrap scores: [0.9885857999613078, 0.9903269491197524, 0.9889727219965178, 0.9885857999613078, 0.9889727219965178, 0.9901334881021474, 0.9895531050493326, 0.9897465660669376, 0.9895531050493326, 0.9895531050493326, 0.9895531050493326, 0.9895531050493326, 0.9893596440317276, 0.9893596440317276, 0.9895531050493326, 0.9889727219965178, 0.9899400270845424, 0.9893596440317276, 0.9899400270845424, 0.9897465660669376, 0.9899400270845424, 0.9899400270845424, 0.9893596440317276, 0.9899400270845424, 0.9899400270845424, 0.9895531050493326, 0.9899400270845424, 0.9899400270845424, 0.9889727219965178, 0.9889727219965178, 0.9887792609789128, 0.9891661830141226, 0.9891661830141226, 0.9889727219965178, 0.9899400270845424, 0.9897465660669376, 0.9889727219965178, 0.9889727219965178, 0.9903269491197524, 0.9883923389437028, 0.9891661830141226, 0.9891661830141226, 0.9897465660669376, 0.9891661830141226, 0.9895531050493326, 0.9897465660669376, 0.9893596440317276, 0.9899400270845424, 0.9887792609789128, 0.9903269491197524, 0.9899400270845424, 0.9897465660669376, 0.9891661830141226, 0.9897465660669376, 0.9901334881021474, 0.9905204101373574, 0.9889727219965178, 0.9903269491197524, 0.9899400270845424, 0.9891661830141226, 0.9881988779260978, 0.9895531050493326, 0.9901334881021474, 0.9889727219965178, 0.9905204101373574, 0.9899400270845424, 0.9887792609789128, 0.9897465660669376, 0.9895531050493326, 0.9893596440317276, 0.9901334881021474, 0.9901334881021474, 0.9895531050493326, 0.9901334881021474, 0.9883923389437028, 0.9893596440317276, 0.9897465660669376, 0.9891661830141226, 0.9897465660669376, 0.9897465660669376, 0.9899400270845424, 0.9901334881021474, 0.9891661830141226, 0.9901334881021474, 0.9905204101373574, 0.9897465660669376, 0.9901334881021474, 0.9891661830141226, 0.9899400270845424, 0.9893596440317276, 0.9893596440317276, 0.9899400270845424, 0.9905204101373574, 0.9893596440317276, 0.9895531050493326, 0.9897465660669376, 0.9897465660669376, 0.9905204101373574, 0.9893596440317276, 0.9897465660669376]\n",
      "Mean accuracy: 0.9895782549816212\n",
      "Standard deviation: 0.0005145153866649952\n"
     ]
    }
   ],
   "source": [
    "print(\"Bootstrap scores:\", bootstrap_scores)\n",
    "print(\"Mean accuracy:\", np.mean(bootstrap_scores))\n",
    "print(\"Standard deviation:\", np.std(bootstrap_scores))"
   ]
  },
  {
   "cell_type": "code",
   "execution_count": 32,
   "id": "44c8488a-34d7-48c7-b336-5853d4c9f314",
   "metadata": {},
   "outputs": [],
   "source": [
    "from sklearn.svm import SVC\n",
    "svc = SVC(kernel='sigmoid')\n",
    "scores = cross_val_score(svc, X, y, cv=kfold, scoring='accuracy')"
   ]
  },
  {
   "cell_type": "code",
   "execution_count": 33,
   "id": "42d49e82-4389-4fc6-b8e5-2f1f3b56c72b",
   "metadata": {},
   "outputs": [
    {
     "name": "stdout",
     "output_type": "stream",
     "text": [
      "[0.98065764 0.9787234  0.97678917 0.96905222 0.98065764 0.98646035\n",
      " 0.98839458 0.97485493 0.97485493 0.98449612]\n",
      "Mean accuracy: 0.979494099830567\n"
     ]
    }
   ],
   "source": [
    "print(scores)\n",
    "print(\"Mean accuracy:\", scores.mean())"
   ]
  },
  {
   "cell_type": "code",
   "execution_count": null,
   "id": "44d7de53-cd41-4071-b11d-245867d01af8",
   "metadata": {},
   "outputs": [],
   "source": []
  }
 ],
 "metadata": {
  "kernelspec": {
   "display_name": "Python 3 (ipykernel)",
   "language": "python",
   "name": "python3"
  },
  "language_info": {
   "codemirror_mode": {
    "name": "ipython",
    "version": 3
   },
   "file_extension": ".py",
   "mimetype": "text/x-python",
   "name": "python",
   "nbconvert_exporter": "python",
   "pygments_lexer": "ipython3",
   "version": "3.11.0"
  }
 },
 "nbformat": 4,
 "nbformat_minor": 5
}
