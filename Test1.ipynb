{
 "cells": [
  {
   "cell_type": "code",
   "execution_count": null,
   "id": "99900f8d-2c55-4ef2-a7aa-9b61fcddeb0b",
   "metadata": {},
   "outputs": [],
   "source": [
    "import numpy as np\n",
    "import pandas as pd"
   ]
  },
  {
   "cell_type": "code",
   "execution_count": null,
   "id": "03e28a7d-8cb5-410d-a14f-1ac47f43a117",
   "metadata": {},
   "outputs": [],
   "source": [
    "df = pd.read_csv('spam.csv', encoding = \"ISO-8859-1\")"
   ]
  },
  {
   "cell_type": "code",
   "execution_count": null,
   "id": "00fc3948-ff32-4333-8c47-dc2608fd1afb",
   "metadata": {},
   "outputs": [],
   "source": [
    "df.sample(5)"
   ]
  },
  {
   "cell_type": "code",
   "execution_count": null,
   "id": "8efde4e3-9711-4707-a39b-e04498e3ef96",
   "metadata": {},
   "outputs": [],
   "source": [
    "df.shape"
   ]
  },
  {
   "cell_type": "code",
   "execution_count": null,
   "id": "b80dea0f-826c-4c7c-99ca-4e153382c31e",
   "metadata": {},
   "outputs": [],
   "source": [
    "df.info()"
   ]
  },
  {
   "cell_type": "code",
   "execution_count": null,
   "id": "cc9eabf0-e67a-4d91-891a-4bd0b056b497",
   "metadata": {},
   "outputs": [],
   "source": [
    "df.drop(columns=['Unnamed: 2','Unnamed: 3','Unnamed: 4'],inplace=True)"
   ]
  },
  {
   "cell_type": "code",
   "execution_count": null,
   "id": "30afdbe8-b0b7-4645-9b5e-4ce6d8be0d2e",
   "metadata": {},
   "outputs": [],
   "source": [
    "df.rename(columns={'v1':'target','v2':'text'},inplace=True)\n",
    "df.sample(5)"
   ]
  },
  {
   "cell_type": "code",
   "execution_count": null,
   "id": "bea865ee-37e3-4286-b68b-f0264232e26f",
   "metadata": {},
   "outputs": [],
   "source": [
    "from sklearn.preprocessing import LabelEncoder\n",
    "encoder = LabelEncoder()\n",
    "df['target'] = encoder.fit_transform(df['target'])"
   ]
  },
  {
   "cell_type": "code",
   "execution_count": null,
   "id": "75cf5692-af20-42ea-902a-da226cd83d14",
   "metadata": {},
   "outputs": [],
   "source": [
    "df = df.drop_duplicates(keep='first')"
   ]
  },
  {
   "cell_type": "code",
   "execution_count": null,
   "id": "962000c8-50f7-44ef-b971-8c9408f36035",
   "metadata": {},
   "outputs": [],
   "source": [
    "df.info()"
   ]
  },
  {
   "cell_type": "code",
   "execution_count": null,
   "id": "214d75e5-99ed-4252-9287-4c0c25cda2f5",
   "metadata": {},
   "outputs": [],
   "source": [
    "import nltk\n",
    "print(nltk.__version__)\n",
    "nltk.download('punkt')\n",
    "nltk.download('stopwords')"
   ]
  },
  {
   "cell_type": "code",
   "execution_count": null,
   "id": "180eddda-0b5c-4418-9b39-3586924f48ef",
   "metadata": {},
   "outputs": [],
   "source": [
    "from nltk.corpus import stopwords\n",
    "import string\n",
    "from nltk.stem.porter import PorterStemmer\n",
    "ps = PorterStemmer()"
   ]
  },
  {
   "cell_type": "code",
   "execution_count": null,
   "id": "298e6a22-ef51-4bba-9646-f9ef146e2d50",
   "metadata": {},
   "outputs": [],
   "source": [
    "def transform_text(text): \n",
    "    text = text.lower() # chuyển thành chữ thường\n",
    "    text = nltk.word_tokenize(text) # chia text thành mảng các từ riêng lẻ\n",
    "    \n",
    "    y = []\n",
    "    for i in text:\n",
    "        if i.isalnum(): # kiểm tra từ chỉ bao gồm chữ và số\n",
    "            y.append(i)\n",
    "    \n",
    "    text = y[:] # copy y to text\n",
    "    y.clear()\n",
    "    \n",
    "    for i in text:\n",
    "        if i not in stopwords.words('english') and i not in string.punctuation: # kiểm tra xem từ không phải là từ dừng và dấu câu\n",
    "            y.append(i)\n",
    "            \n",
    "    text = y[:]\n",
    "    y.clear()\n",
    "    for i in text:\n",
    "        y.append(ps.stem(i)) # cắt giảm từ trở về dạng gốc\n",
    "            \n",
    "    return \" \".join(y)"
   ]
  },
  {
   "cell_type": "code",
   "execution_count": null,
   "id": "2d704714-0cac-4774-b875-85296d11f073",
   "metadata": {},
   "outputs": [],
   "source": [
    "transform_text('Whoever has money, please donate to me')"
   ]
  },
  {
   "cell_type": "code",
   "execution_count": null,
   "id": "ece6a68d-1b4a-455f-9df6-eadfa4708ae9",
   "metadata": {},
   "outputs": [],
   "source": [
    "df['transformed_text'] = df['text'].apply(transform_text)"
   ]
  },
  {
   "cell_type": "code",
   "execution_count": null,
   "id": "48fb6dfc-6746-48fb-92bb-28deab0e7e51",
   "metadata": {},
   "outputs": [],
   "source": [
    "df.head()"
   ]
  },
  {
   "cell_type": "code",
   "execution_count": null,
   "id": "7cd248fd-d05a-4a3e-9ac8-ffd8ec5c80f2",
   "metadata": {},
   "outputs": [],
   "source": [
    "from sklearn.feature_extraction.text import CountVectorizer, TfidfVectorizer\n",
    "from sklearn.model_selection import GridSearchCV\n",
    "cv = CountVectorizer()   #Vector hóa văn bản\n",
    "tfidf = TfidfVectorizer(max_features = 3000) # chuyển đổi văn bản thành vectơ TF-IDF giữ lại 3000 đặc trưng"
   ]
  },
  {
   "cell_type": "code",
   "execution_count": null,
   "id": "b6bb5d20-5ceb-4489-bef4-add4ebf714ba",
   "metadata": {},
   "outputs": [],
   "source": [
    "X = tfidf.fit_transform(df['transformed_text']).toarray() # chuyển đổi cột 'transformed_text' thành ma trận các vectơ TF-IDF\n",
    "X.shape"
   ]
  },
  {
   "cell_type": "code",
   "execution_count": null,
   "id": "b4136306-69d0-4119-9bed-f774605c3fef",
   "metadata": {},
   "outputs": [],
   "source": [
    "from sklearn.preprocessing import MinMaxScaler, StandardScaler\n",
    "scaler = StandardScaler()\n",
    "X = scaler.fit_transform(X) # chuẩn hóa ma trận về khoảng giá trị [0, 1]\n",
    "X.shape"
   ]
  },
  {
   "cell_type": "code",
   "execution_count": null,
   "id": "08794927-212e-4b07-8b58-c64fcc1fa415",
   "metadata": {},
   "outputs": [],
   "source": [
    "y = df['target'].values"
   ]
  },
  {
   "cell_type": "code",
   "execution_count": null,
   "id": "a701d97c-65ca-420f-b1bd-84c6bc0f9274",
   "metadata": {},
   "outputs": [],
   "source": [
    "from sklearn.model_selection import train_test_split\n",
    "from sklearn.metrics import accuracy_score, confusion_matrix, precision_score, classification_report, roc_curve, auc, precision_recall_curve\n",
    "import matplotlib.pyplot as plt\n",
    "import seaborn as sns\n",
    "from plotly.subplots import make_subplots"
   ]
  },
  {
   "cell_type": "code",
   "execution_count": null,
   "id": "85bb53f0-a990-453a-81b5-4a2beb39600e",
   "metadata": {},
   "outputs": [],
   "source": [
    "from sklearn.model_selection import KFold, LeaveOneOut\n",
    "from sklearn.model_selection import cross_val_score\n",
    "X_train, X_test, y_train, y_test = train_test_split(X, y, test_size = 0.2, random_state = 42)"
   ]
  },
  {
   "cell_type": "code",
   "execution_count": null,
   "id": "1053c4ca-a9e3-4703-b905-bab93f822fc4",
   "metadata": {},
   "outputs": [],
   "source": [
    "from sklearn.neighbors import KNeighborsClassifier"
   ]
  },
  {
   "cell_type": "code",
   "execution_count": null,
   "id": "b8ecfcc8-205b-49a6-a855-184d2917ac59",
   "metadata": {},
   "outputs": [],
   "source": [
    "knn = KNeighborsClassifier(n_neighbors=2, weights='distance')\n",
    "knn.fit(X_train, y_train)\n",
    "y_pred_knn = knn.predict(X_test)\n",
    "print(\"accuracy score:\", accuracy_score(y_test, y_pred_knn))\n",
    "print(\"confusion matrix:\\n\",confusion_matrix(y_test, y_pred_knn))\n",
    "print(\"precision score:\", precision_score(y_test, y_pred_knn))\n",
    "print(\"\\n\",classification_report(y_test, y_pred_knn))"
   ]
  },
  {
   "cell_type": "code",
   "execution_count": null,
   "id": "fa8747b4-2642-4036-9404-4d71e13af870",
   "metadata": {},
   "outputs": [],
   "source": [
    "param_grid_knn = {'n_neighbors': range(1,20,1)}\n",
    "grid_search_knn = GridSearchCV(knn, param_grid_knn, cv=5, scoring='accuracy')\n",
    "grid_search_knn.fit(X_train, y_train)"
   ]
  },
  {
   "cell_type": "code",
   "execution_count": null,
   "id": "b446bb35-3011-4d9b-b73a-156a94aadd9a",
   "metadata": {},
   "outputs": [],
   "source": [
    "grid_search_knn.best_estimator_"
   ]
  },
  {
   "cell_type": "code",
   "execution_count": null,
   "id": "017ccb29-9e18-462f-8f30-ea3860e22b50",
   "metadata": {},
   "outputs": [],
   "source": [
    "knn_best_nneighbors = grid_search_knn.best_estimator_"
   ]
  },
  {
   "cell_type": "code",
   "execution_count": null,
   "id": "eae955f6-e88d-475c-83d2-2b510aa6454b",
   "metadata": {},
   "outputs": [],
   "source": [
    "from sklearn.tree import DecisionTreeClassifier"
   ]
  },
  {
   "cell_type": "code",
   "execution_count": null,
   "id": "42885f49-1938-43be-9bf8-7022e08ab253",
   "metadata": {},
   "outputs": [],
   "source": [
    "dtc = DecisionTreeClassifier(max_depth=5)\n",
    "dtc.fit(X_train, y_train)\n",
    "y_pred_dtc = dtc.predict(X_test)\n",
    "print(\"accuracy score:\", accuracy_score(y_test, y_pred_dtc))\n",
    "print(\"confusion matrix:\\n\",confusion_matrix(y_test, y_pred_dtc))\n",
    "print(\"precision score:\", precision_score(y_test, y_pred_dtc))\n",
    "print(\"\\n\",classification_report(y_test, y_pred_dtc))"
   ]
  },
  {
   "cell_type": "code",
   "execution_count": null,
   "id": "8a8693e7-2e53-48c7-8b87-67aa05bbbd7b",
   "metadata": {},
   "outputs": [],
   "source": [
    "param_grid_dtc = {'max_depth': range(1,30,1)}\n",
    "grid_search_dtc = GridSearchCV(dtc, param_grid_dtc, cv=5, scoring='accuracy')\n",
    "grid_search_dtc.fit(X_train, y_train)"
   ]
  },
  {
   "cell_type": "code",
   "execution_count": null,
   "id": "727aeb60-9beb-41c9-a900-f34f104d7351",
   "metadata": {},
   "outputs": [],
   "source": [
    "grid_search_dtc.best_estimator_"
   ]
  },
  {
   "cell_type": "code",
   "execution_count": null,
   "id": "08a37e02-ac02-4a22-a91d-035197bd55a7",
   "metadata": {},
   "outputs": [],
   "source": [
    "from sklearn.ensemble import RandomForestClassifier"
   ]
  },
  {
   "cell_type": "code",
   "execution_count": null,
   "id": "4b8ffdc0-e120-4b19-9b28-2550a48a5286",
   "metadata": {},
   "outputs": [],
   "source": [
    "rfc = RandomForestClassifier(n_estimators=50)\n",
    "rfc.fit(X_train, y_train)\n",
    "y_pred_rfc = rfc.predict(X_test)\n",
    "print(\"accuracy score:\", accuracy_score(y_test, y_pred_rfc))\n",
    "print(\"confusion matrix:\\n\",confusion_matrix(y_test, y_pred_rfc))\n",
    "print(\"precision score:\", precision_score(y_test, y_pred_rfc))\n",
    "print(\"\\n\",classification_report(y_test, y_pred_rfc))"
   ]
  },
  {
   "cell_type": "code",
   "execution_count": null,
   "id": "f411707e-c10e-4dd4-b5f8-2affa7d1f0f7",
   "metadata": {},
   "outputs": [],
   "source": [
    "param_grid_rfc = {'n_estimators': range(10,100,10)}\n",
    "grid_search_rfc = GridSearchCV(rfc, param_grid_rfc, cv=5, scoring='accuracy')\n",
    "grid_search_rfc.fit(X_train, y_train)"
   ]
  },
  {
   "cell_type": "code",
   "execution_count": null,
   "id": "ae2a9f21-1268-4004-8c6f-23766df3d1f7",
   "metadata": {},
   "outputs": [],
   "source": [
    "grid_search_rfc.best_estimator_"
   ]
  },
  {
   "cell_type": "code",
   "execution_count": null,
   "id": "9e6c9b51-ac90-43f7-8eba-5a902286a091",
   "metadata": {},
   "outputs": [],
   "source": []
  },
  {
   "cell_type": "code",
   "execution_count": null,
   "id": "caacfcad-a182-4f39-8353-bdbcb1129cad",
   "metadata": {},
   "outputs": [],
   "source": []
  }
 ],
 "metadata": {
  "kernelspec": {
   "display_name": "Python 3 (ipykernel)",
   "language": "python",
   "name": "python3"
  },
  "language_info": {
   "codemirror_mode": {
    "name": "ipython",
    "version": 3
   },
   "file_extension": ".py",
   "mimetype": "text/x-python",
   "name": "python",
   "nbconvert_exporter": "python",
   "pygments_lexer": "ipython3",
   "version": "3.11.0"
  }
 },
 "nbformat": 4,
 "nbformat_minor": 5
}
